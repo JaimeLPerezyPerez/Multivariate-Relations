{
 "cells": [
  {
   "cell_type": "code",
   "execution_count": null,
   "metadata": {},
   "outputs": [],
   "source": [
    "import pandas as pd\n",
    "import dateutil.parser\n",
    "from sdv.metadata import SingleTableMetadata\n",
    "from sdv.sequential import PARSynthesizer\n",
    "from sdv.metadata import SingleTableMetadata\n",
    "USE_FULL = False"
   ]
  },
  {
   "cell_type": "code",
   "execution_count": null,
   "metadata": {},
   "outputs": [],
   "source": [
    "if(USE_FULL == True):\n",
    "    data = pd.read_csv(\"data_full.csv\")\n",
    "else:\n",
    "    data = pd.read_csv(\"data.csv\")"
   ]
  },
  {
   "cell_type": "code",
   "execution_count": null,
   "metadata": {},
   "outputs": [],
   "source": [
    "\n",
    "new_time = []\n",
    "for x in data[\"time\"]:\n",
    "    new_time.append(dateutil.parser.parse(x))\n",
    "\n",
    "data[\"time\"] = new_time\n",
    "\n",
    "metadata = SingleTableMetadata()\n",
    "metadata.detect_from_dataframe(data)\n",
    "metadata.update_column(\n",
    "    column_name='id',\n",
    "    sdtype='id')\n",
    "\n",
    "metadata.set_sequence_key(column_name=\"id\")   \n",
    "metadata.set_sequence_index(column_name=\"time\")\n",
    "synthesizer = PARSynthesizer(metadata,verbose= True,epochs = 5000)\n",
    "synthesizer.fit(data)\n",
    "synthetic_data = synthesizer.sample(num_sequences = 25)\n",
    "synthetic_data.to_csv(\"./PAR.csv\")\n",
    "synthesizer.save(\"./PAR.pkl\")"
   ]
  }
 ],
 "metadata": {
  "language_info": {
   "name": "python"
  },
  "orig_nbformat": 4
 },
 "nbformat": 4,
 "nbformat_minor": 2
}
