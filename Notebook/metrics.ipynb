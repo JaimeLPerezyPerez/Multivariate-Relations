{
 "cells": [
  {
   "cell_type": "code",
   "execution_count": 5,
   "metadata": {},
   "outputs": [],
   "source": [
    "import pandas as pd\n",
    "import numpy as np\n",
    "from sdv.datasets.local import load_csvs\n",
    "import matplotlib.pyplot as plt\n",
    "from sdv.evaluation.single_table import evaluate_quality\n",
    "from sdv.metadata import SingleTableMetadata\n",
    "import dateutil.parser\n",
    "from sdmetrics.single_table import SVCDetection\n"
   ]
  },
  {
   "cell_type": "code",
   "execution_count": 9,
   "metadata": {},
   "outputs": [],
   "source": [
    "real_data = pd.read_csv(\"./data_full.csv\")\n",
    "data_real = [pd.DataFrame() for i in range(len(real_data.columns.tolist()) - 2)]\n",
    "time = real_data[\"time\"]\n",
    "i = 0\n",
    "for x in real_data:\n",
    "    if(x == \"time\" or x == \"id\"):\n",
    "        x = x\n",
    "    else:\n",
    "        for y in range(25):\n",
    "            data_real[i][y] = real_data[real_data[\"id\"] == y][x].tolist()\n",
    "       \n",
    "    i = i + 1\n",
    "\n",
    "i = 0\n",
    "for x in data_real:\n",
    "    data_real[i] = data_real[i] .transpose()\n",
    "    data_real[i]  = data_real[i] .reset_index().drop([\"index\"],axis = 1)\n",
    "    i = i + 1\n"
   ]
  },
  {
   "cell_type": "code",
   "execution_count": 10,
   "metadata": {},
   "outputs": [],
   "source": [
    "synthetic_data = pd.read_csv(\"./gretel5000.csv\")\n",
    "data_synth = [pd.DataFrame() for i in range(len(synthetic_data.columns.tolist()) - 2)]\n",
    "time = synthetic_data[\"time\"]\n",
    "i = 0\n",
    "for x in synthetic_data:\n",
    "    if(x == \"time\" or x == \"id\"):\n",
    "        x = x\n",
    "    else:\n",
    "        for y in range(25):\n",
    "            data_synth[i][y] = synthetic_data[synthetic_data[\"id\"] == y][x].tolist()\n",
    "       \n",
    "    i = i + 1\n",
    "\n",
    "i = 0\n",
    "for x in data_synth:\n",
    "    data_synth[i] = data_synth[i] .transpose()\n",
    "    data_synth[i]  = data_synth[i] .reset_index().drop([\"index\"],axis = 1)\n",
    "    i = i + 1\n"
   ]
  },
  {
   "cell_type": "code",
   "execution_count": 11,
   "metadata": {},
   "outputs": [
    {
     "name": "stderr",
     "output_type": "stream",
     "text": [
      "Creating report: 100%|██████████| 4/4 [00:08<00:00,  2.09s/it]\n"
     ]
    },
    {
     "name": "stdout",
     "output_type": "stream",
     "text": [
      "\n",
      "Overall Quality Score: 75.55%\n",
      "\n",
      "Properties:\n",
      "Column Shapes: 71.01%\n",
      "Column Pair Trends: 80.1%\n",
      "PROGRESS\n",
      "PROGRESS\n",
      "PROGRESS\n",
      "PROGRESS\n",
      "PROGRESS\n",
      "PROGRESS\n",
      "PROGRESS\n",
      "PROGRESS\n",
      "PROGRESS\n",
      "PROGRESS\n",
      "PROGRESS\n",
      "PROGRESS\n",
      "0.29070216049382713\n"
     ]
    }
   ],
   "source": [
    "\n",
    "real_data = real_data.drop([\"time\",\"id\"],axis = 1)\n",
    "synthetic_data = synthetic_data.drop([\"time\",\"id\"],axis = 1)\n",
    "\n",
    "metadata = SingleTableMetadata()\n",
    "metadata.detect_from_dataframe(real_data)\n",
    "\n",
    "\n",
    "quality_report = evaluate_quality(\n",
    "        real_data=real_data,\n",
    "        synthetic_data=synthetic_data,\n",
    "        metadata=metadata)\n",
    "scores = []\n",
    "\n",
    "for i in range(len(data_real)):\n",
    "    metadata = SingleTableMetadata()\n",
    "    metadata.detect_from_dataframe(data_real[i])\n",
    "    scores.append(SVCDetection.compute(\n",
    "    real_data=data_real[i],\n",
    "    synthetic_data= data_synth[i],\n",
    "    metadata= metadata\n",
    "    )   \n",
    "    )\n",
    "    print(\"PROGRESS\") \n",
    "\n",
    "score = np.mean(scores)\n",
    "print(score)"
   ]
  }
 ],
 "metadata": {
  "kernelspec": {
   "display_name": "Python 3",
   "language": "python",
   "name": "python3"
  },
  "language_info": {
   "codemirror_mode": {
    "name": "ipython",
    "version": 3
   },
   "file_extension": ".py",
   "mimetype": "text/x-python",
   "name": "python",
   "nbconvert_exporter": "python",
   "pygments_lexer": "ipython3",
   "version": "3.9.12"
  },
  "orig_nbformat": 4
 },
 "nbformat": 4,
 "nbformat_minor": 2
}
