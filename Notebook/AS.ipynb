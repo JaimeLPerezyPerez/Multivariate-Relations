{
 "cells": [
  {
   "cell_type": "code",
   "execution_count": 1,
   "metadata": {},
   "outputs": [],
   "source": [
    "import pandas as pd\n"
   ]
  },
  {
   "cell_type": "code",
   "execution_count": 46,
   "metadata": {},
   "outputs": [],
   "source": [
    "data = pd.read_csv(\"./data_full.csv\")\n"
   ]
  },
  {
   "cell_type": "code",
   "execution_count": 57,
   "metadata": {},
   "outputs": [],
   "source": [
    "factor = 0.8/24\n",
    "new_data = pd.DataFrame()\n",
    "for x in range(25):\n",
    "    time = data[data[\"id\"] == x][\"time\"]\n",
    "    id = data[data[\"id\"] == x][\"id\"]\n",
    "    new_sequence = data[data[\"id\"] == x].drop([\"id\",\"time\"],axis = 1) * 0.2\n",
    "    new_sequence = new_sequence.reset_index().drop([\"index\"],axis = 1)\n",
    "    for y in range(25):\n",
    "        if(x==y):\n",
    "            x= x\n",
    "        else:\n",
    "            extra = data[data[\"id\"] == y].drop([\"id\",\"time\"],axis = 1) * factor\n",
    "            extra = extra.reset_index().drop([\"index\"],axis = 1)\n",
    "            new_sequence = new_sequence + extra\n",
    "            \n",
    "    new_sequence[\"time\"] = time.reset_index().drop([\"index\"],axis = 1)\n",
    "    new_sequence[\"id\"] = id.reset_index().drop([\"index\"],axis = 1)\n",
    "\n",
    "    new_data = pd.concat([new_data, new_sequence])\n",
    "\n",
    "new_data.to_csv(\"poop.csv\",index= False)"
   ]
  }
 ],
 "metadata": {
  "kernelspec": {
   "display_name": "Python 3",
   "language": "python",
   "name": "python3"
  },
  "language_info": {
   "codemirror_mode": {
    "name": "ipython",
    "version": 3
   },
   "file_extension": ".py",
   "mimetype": "text/x-python",
   "name": "python",
   "nbconvert_exporter": "python",
   "pygments_lexer": "ipython3",
   "version": "3.10.7"
  },
  "orig_nbformat": 4
 },
 "nbformat": 4,
 "nbformat_minor": 2
}
